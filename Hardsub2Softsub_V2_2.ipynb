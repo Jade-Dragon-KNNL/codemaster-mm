{
  "nbformat": 4,
  "nbformat_minor": 0,
  "metadata": {
    "colab": {
      "name": "Hardsub2Softsub V2.2.ipynb",
      "provenance": [],
      "collapsed_sections": [],
      "include_colab_link": true
    },
    "kernelspec": {
      "display_name": "Python 3",
      "name": "python3"
    },
    "language_info": {
      "name": "python"
    }
  },
  "cells": [
    {
      "cell_type": "markdown",
      "metadata": {
        "id": "view-in-github",
        "colab_type": "text"
      },
      "source": [
        "<a href=\"https://colab.research.google.com/github/Jade-Dragon-KNNL/codemaster-mm/blob/master/Hardsub2Softsub_V2_2.ipynb\" target=\"_parent\"><img src=\"https://colab.research.google.com/assets/colab-badge.svg\" alt=\"Open In Colab\"/></a>"
      ]
    },
    {
      "cell_type": "markdown",
      "metadata": {
        "id": "JOM0mU-qZCxq"
      },
      "source": [
        "## <img src='https://fiverr-res.cloudinary.com/images/t_main1,q_auto,f_auto,q_auto,f_auto/gigs/201283509/original/bded753530fef9a172ef7c932905e2496cd2072c/make-srt-and-ass-subtitle-file-from-any-hardsub-video.png' height=\"50\" alt=\"iceWM\" /> ___Hardsub2Softsub V 2.2___ <img src='https://raw.githubusercontent.com/totalleecher/codemaster-mm/master/TPU.png' height=\"200\" align=\"right\" alt=\"iceWM\" />\n",
        "- Warning : For better result, please use TPU Mode. Othrewise, converting process may fail -->"
      ]
    },
    {
      "cell_type": "code",
      "metadata": {
        "id": "cY7kUix6dAaX",
        "cellView": "form"
      },
      "source": [
        "#@title ← Install Modules\n",
        "#@markdown - Need only for one time, you can skip this step for another operation\n",
        "Select_Credentials = \"default\" #@param [\"default\", \"2\", \"3\", \"4\"]\n",
        "import os, urllib.request\n",
        "from IPython.display import clear_output\n",
        "\n",
        "HOME = os.path.expanduser(\"~\")\n",
        "pathDoneCMD = f'{HOME}/doneCMD.sh'\n",
        "if not os.path.exists(f\"{HOME}/.ipython/ttmg.py\"):\n",
        "    hCode = \"https://raw.githubusercontent.com/totalleecher/\" \\\n",
        "                \"Google-Colab-CloudTorrent/master/res/ttmg.py\"\n",
        "    urllib.request.urlretrieve(hCode, f\"{HOME}/.ipython/ttmg.py\")\n",
        "\n",
        "from ttmg import (\n",
        "    loadingAn,\n",
        "    textAn,\n",
        ")\n",
        "\n",
        "\n",
        "\n",
        "loadingAn(name=\"lds\")\n",
        "textAn(\"Installing Dependencies...\", ty='twg')\n",
        "%cd /content\n",
        "os.system('git clone https://github.com/sengkyaut/image-ocr-google-docs-srt.git')\n",
        "%cd image-ocr-google-docs-srt\n",
        "os.system('pip install --upgrade google-api-python-client google-auth-httplib2 google-auth-oauthlib')\n",
        "\n",
        "if Select_Credentials == \"default\":\n",
        "  os.system('wget https://raw.githubusercontent.com/totalleecher/codemaster-mm/master/sa-account.json')\n",
        "elif Select_Credentials == \"2\":\n",
        "  os.system('wget https://raw.githubusercontent.com/totalleecher/codemaster-mm/master/sa-account.json')\n",
        "elif Select_Credentials == \"3\":\n",
        "  os.system('wget https://raw.githubusercontent.com/totalleecher/codemaster-mm/master/sa-account.json')\n",
        "else:\n",
        "   os.system('wget https://raw.githubusercontent.com/totalleecher/codemaster-mm/master/sa-account.json')\n",
        "\n",
        "clear_output()\n",
        "print(\"Install Finished\")\n",
        "\n",
        "#Codemaster V2.2 VSF  "
      ],
      "execution_count": null,
      "outputs": []
    },
    {
      "cell_type": "code",
      "metadata": {
        "id": "JGAm5iW5WZX5",
        "cellView": "form"
      },
      "source": [
        "#@title ← Upload Images from Video Sub Finder for OCR\n",
        "#@markdown - Please Upload RAR file contaning Images (RGB Images)\n",
        "#@markdown - Gdrive Link format must be format as below (Otherwise downloaded file will not work)\n",
        "#@markdown - <code>https://drive.google.com/u/6/uc?id=1QGMGef-QHuJAXsOtPyKwDz1WbS2ndGCl&export=download</code>\n",
        "\n",
        "\n",
        "import gdown\n",
        "Upload_from = \"Gdrive\" #@param [\"Gdrive\", \"PC\", \"Direct Link\"]\n",
        "url = \"https://drive.google.com/u/6/uc?id=1AC8hv_DynQF6n6rIV5b16mTMY3ywk1Rj&export=download\" #@param {type:\"string\"}\n",
        "if Upload_from == \"Gdrive\":\n",
        "  output = \"RGBimages.rar\"\n",
        "  gdown.download(url, output, quiet=False)\n",
        "\n",
        "elif Upload_from == \"PC\":\n",
        " from google.colab import files\n",
        " uploaded = files.upload()\n",
        "\n",
        "else:\n",
        " os.system('pip install wget')\n",
        " import wget\n",
        " filename = wget.download(url)\n",
        " print(filename)\n",
        " print(\"Downloaded\")\n",
        " \n",
        "\n",
        "\n",
        "#Codemaster V2.1 VSF  "
      ],
      "execution_count": null,
      "outputs": []
    },
    {
      "cell_type": "code",
      "metadata": {
        "id": "I6EMkKaq31qq",
        "cellView": "form"
      },
      "source": [
        "#@title ← Extract RAR\n",
        "import os\n",
        "temp = \"./temp\"\n",
        "\n",
        "from pathlib import Path\n",
        "if not Path('temp').exists():\n",
        "  os.mkdir(temp)\n",
        "os.system(\"unrar x *.rar temp\")\n",
        "#Reading Data\n",
        "\n",
        "ext = \".jpg\"\n",
        "counter = 0\n",
        "dir_counter = 0\n",
        "os.mkdir(f\"images{dir_counter}\")\n",
        "current_dir = f\"images{dir_counter}\"\n",
        "for file in os.listdir(temp):\n",
        "    if counter % 100 == 0:\n",
        "        dir_counter +=1\n",
        "        os.mkdir(f\"images{dir_counter}\")\n",
        "        current_dir = f\"images{dir_counter}\"\n",
        "    if file.endswith(tuple(ext)):\n",
        "      os.rename(f\"{temp}/{file}\",f\"{current_dir}/{file}\")\n",
        "      counter += 1\n",
        "# write counter\n",
        "print(f\"Total {counter} {ext} files\")\n",
        "with open('counter.txt','w') as f:\n",
        "  f.write(str(counter))\n",
        "\n",
        "#clean\n",
        "os.rmdir(temp)\n",
        "\n",
        "         "
      ],
      "execution_count": null,
      "outputs": []
    },
    {
      "cell_type": "code",
      "metadata": {
        "id": "Q1b-qAG-Bhd6",
        "cellView": "form"
      },
      "source": [
        "#@title ← RUN\n",
        "import multiprocessing\n",
        "\n",
        "def mymain(mydir):\n",
        "  !python main.py {mydir}\n",
        "\n",
        "for i in range(1,30):\n",
        "    myimages = f\"images{i}\"\n",
        "    p = multiprocessing.Process(target=mymain, args=(myimages,))\n",
        "    p.start()\n",
        "print(\"Done\")\n",
        "#Codemaster V2.2 VSF  "
      ],
      "execution_count": null,
      "outputs": []
    },
    {
      "cell_type": "code",
      "metadata": {
        "id": "_sHCldwyNuaa",
        "cellView": "form"
      },
      "source": [
        "#@title ← Check Progress & Download\n",
        "#@markdown - If fail or error message occur on first time, please ignore it and re-run the cell\n",
        "import os\n",
        "from IPython.display import HTML, display\n",
        "import time\n",
        "\n",
        "Counter = int(open(\"counter.txt\",\"r\").readline())\n",
        "\n",
        "file_count = len(os.listdir(\"texts\"))\n",
        "\n",
        "print(\"Total File Done\")\n",
        "print(str(file_count)+\" of \"+str(Counter))\n",
        "\n",
        "if file_count == Counter:\n",
        "  from google.colab import files\n",
        "  files.download('subtitle_output.srt') \n",
        "\n",
        "#while file_count != Counter:\n",
        "\n",
        "\n",
        "def progress(value, max=100):\n",
        "    return HTML(\"\"\"\n",
        "        <progress\n",
        "            value='{value}'\n",
        "            max='{max}',\n",
        "            style='width: 100%'\n",
        "        >\n",
        "            {value}\n",
        "        </progress>\n",
        "    \"\"\".format(value=file_count, max=Counter))\n",
        "\n",
        "out = display(progress(0, 100), display_id=True)\n"
      ],
      "execution_count": null,
      "outputs": []
    },
    {
      "cell_type": "code",
      "metadata": {
        "id": "JjaihVZ60mwD",
        "cellView": "form"
      },
      "source": [
        "#@title ← Clear All data for another operation\n",
        "#@markdown - After that you can start from step-2 (Upload RAR) for another operation\n",
        "\n",
        "!rm *.srt\n",
        "!rm *.rar\n",
        "!rm *.txt\n",
        "!rm -R -- */\n",
        "!mkdir raw_texts\n",
        "!mkdir texts\n",
        "!kill $(ps aux | grep 'main.py' | awk '{print $2}')\n",
        "#Codemaster V2.2 VSF  "
      ],
      "execution_count": null,
      "outputs": []
    },
    {
      "cell_type": "markdown",
      "metadata": {
        "id": "Ve4sfgDiCsmC"
      },
      "source": [
        "\n",
        "# <center><h3>Copyright © 2021. All right reserved.</h3></b></div><h5>Modified by <b>Codemaster@BSSG</h5></center></h5>\n",
        "\n",
        "\n"
      ]
    }
  ]
}